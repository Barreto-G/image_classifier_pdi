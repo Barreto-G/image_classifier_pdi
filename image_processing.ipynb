{
 "cells": [
  {
   "cell_type": "code",
   "execution_count": 2,
   "metadata": {},
   "outputs": [],
   "source": [
    "from trim_dataset import TrimDataset"
   ]
  },
  {
   "cell_type": "code",
   "execution_count": null,
   "metadata": {},
   "outputs": [],
   "source": [
    "base_dataset = TrimDataset('trims_dataset')\n",
    "print('Dataset carregado com sucesso')\n",
    "base_dataset.save_images('downscaled_dataset')\n",
    "base_dataset.save_annotations(path='downscaled_dataset')"
   ]
  },
  {
   "cell_type": "code",
   "execution_count": 3,
   "metadata": {},
   "outputs": [],
   "source": [
    "\n",
    "reduced_dataset = TrimDataset('downscaled_dataset')\n",
    "reduced_dataset.dataset_augmentation()"
   ]
  },
  {
   "cell_type": "code",
   "execution_count": 4,
   "metadata": {},
   "outputs": [
    {
     "name": "stdout",
     "output_type": "stream",
     "text": [
      "Dataset carregado com sucesso\n",
      "Dataset normalizado com sucesso\n"
     ]
    }
   ],
   "source": [
    "augmented_dataset = TrimDataset('augmented_dataset')\n",
    "print('Dataset carregado com sucesso')\n",
    "augmented_dataset.normalize_dataset()\n",
    "print('Dataset normalizado com sucesso')\n"
   ]
  }
 ],
 "metadata": {
  "kernelspec": {
   "display_name": "Python 3",
   "language": "python",
   "name": "python3"
  },
  "language_info": {
   "codemirror_mode": {
    "name": "ipython",
    "version": 3
   },
   "file_extension": ".py",
   "mimetype": "text/x-python",
   "name": "python",
   "nbconvert_exporter": "python",
   "pygments_lexer": "ipython3",
   "version": "3.12.2"
  }
 },
 "nbformat": 4,
 "nbformat_minor": 2
}
