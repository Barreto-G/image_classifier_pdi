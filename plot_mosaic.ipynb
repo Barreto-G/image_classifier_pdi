{
 "cells": [
  {
   "cell_type": "code",
   "execution_count": 1,
   "metadata": {},
   "outputs": [],
   "source": [
    "import os\n",
    "import cv2\n",
    "import re\n",
    "import numpy as np\n",
    "from skimage import io, transform\n",
    "import matplotlib.pyplot as plt\n",
    "import matplotlib.patches as patches\n",
    "from trim_dataset import TrimDataset\n",
    "import random"
   ]
  },
  {
   "cell_type": "code",
   "execution_count": 2,
   "metadata": {},
   "outputs": [],
   "source": [
    "def plot_mosaic_from_dir(dir_path: str, images_per_class=2) -> None:\n",
    "    \"\"\"\n",
    "    Displays a mosaic of images from the specified root directory, with 2 images per class.\n",
    "\n",
    "    Args:\n",
    "        dir_path (str): Path to the root directory containing the images.\n",
    "        images_per_class (int): Number of images to display per class.\n",
    "    \"\"\"\n",
    "    rows, cols = 5, images_per_class * 2\n",
    "    image_shape = (256, 256)\n",
    "    images = []\n",
    "    class_images = {}\n",
    "\n",
    "    # Iterate through images in the directory and group them by class\n",
    "    for folder_name in os.listdir(dir_path):\n",
    "        for image_name in os.listdir(dir_path+ '/' + folder_name):\n",
    "            # Extract class code from image name using regex\n",
    "            match = re.match(r'^\\d+', image_name)\n",
    "            if match is None:\n",
    "                continue\n",
    "            class_code = match.group()\n",
    "\n",
    "            # Initialize list for each class if not already\n",
    "            if class_code not in class_images:\n",
    "                class_images[class_code] = []\n",
    "\n",
    "            if len(class_images[class_code]) < images_per_class:\n",
    "                image_path = os.path.join(dir_path+ '/' + folder_name, image_name)\n",
    "                image = io.imread(image_path)\n",
    "                image = transform.resize(image, image_shape)\n",
    "                class_images[class_code].append(image)\n",
    "            \n",
    "            if len(class_images) == rows * cols:\n",
    "                break\n",
    "\n",
    "    # Flatten the list of images in class order\n",
    "    for class_code in sorted(class_images.keys()):\n",
    "        images.extend(class_images[class_code])\n",
    "\n",
    "    # Plot the images in a grid\n",
    "    fig, axes = plt.subplots(rows, cols, figsize=(15, 15))\n",
    "    for ax, img in zip(axes.flatten(), images):\n",
    "        ax.imshow(img)\n",
    "        ax.axis('off')\n",
    "\n",
    "    plt.tight_layout()\n",
    "    plt.show()\n",
    "\n"
   ]
  },
  {
   "cell_type": "code",
   "execution_count": 3,
   "metadata": {},
   "outputs": [
    {
     "ename": "NotADirectoryError",
     "evalue": "[WinError 267] O nome do diretório é inválido: 'augmented_dataset/metadata.json'",
     "output_type": "error",
     "traceback": [
      "\u001b[1;31m---------------------------------------------------------------------------\u001b[0m",
      "\u001b[1;31mNotADirectoryError\u001b[0m                        Traceback (most recent call last)",
      "Cell \u001b[1;32mIn[3], line 1\u001b[0m\n\u001b[1;32m----> 1\u001b[0m \u001b[43mplot_mosaic_from_dir\u001b[49m\u001b[43m(\u001b[49m\u001b[38;5;124;43m'\u001b[39;49m\u001b[38;5;124;43maugmented_dataset\u001b[39;49m\u001b[38;5;124;43m'\u001b[39;49m\u001b[43m)\u001b[49m\n",
      "Cell \u001b[1;32mIn[2], line 16\u001b[0m, in \u001b[0;36mplot_mosaic_from_dir\u001b[1;34m(dir_path, images_per_class)\u001b[0m\n\u001b[0;32m     14\u001b[0m \u001b[38;5;66;03m# Iterate through images in the directory and group them by class\u001b[39;00m\n\u001b[0;32m     15\u001b[0m \u001b[38;5;28;01mfor\u001b[39;00m folder_name \u001b[38;5;129;01min\u001b[39;00m os\u001b[38;5;241m.\u001b[39mlistdir(dir_path):\n\u001b[1;32m---> 16\u001b[0m     \u001b[38;5;28;01mfor\u001b[39;00m image_name \u001b[38;5;129;01min\u001b[39;00m \u001b[43mos\u001b[49m\u001b[38;5;241;43m.\u001b[39;49m\u001b[43mlistdir\u001b[49m\u001b[43m(\u001b[49m\u001b[43mdir_path\u001b[49m\u001b[38;5;241;43m+\u001b[39;49m\u001b[43m \u001b[49m\u001b[38;5;124;43m'\u001b[39;49m\u001b[38;5;124;43m/\u001b[39;49m\u001b[38;5;124;43m'\u001b[39;49m\u001b[43m \u001b[49m\u001b[38;5;241;43m+\u001b[39;49m\u001b[43m \u001b[49m\u001b[43mfolder_name\u001b[49m\u001b[43m)\u001b[49m:\n\u001b[0;32m     17\u001b[0m         \u001b[38;5;66;03m# Extract class code from image name using regex\u001b[39;00m\n\u001b[0;32m     18\u001b[0m         match \u001b[38;5;241m=\u001b[39m re\u001b[38;5;241m.\u001b[39mmatch(\u001b[38;5;124mr\u001b[39m\u001b[38;5;124m'\u001b[39m\u001b[38;5;124m^\u001b[39m\u001b[38;5;124m\\\u001b[39m\u001b[38;5;124md+\u001b[39m\u001b[38;5;124m'\u001b[39m, image_name)\n\u001b[0;32m     19\u001b[0m         \u001b[38;5;28;01mif\u001b[39;00m match \u001b[38;5;129;01mis\u001b[39;00m \u001b[38;5;28;01mNone\u001b[39;00m:\n",
      "\u001b[1;31mNotADirectoryError\u001b[0m: [WinError 267] O nome do diretório é inválido: 'augmented_dataset/metadata.json'"
     ]
    }
   ],
   "source": [
    "plot_mosaic_from_dir('augmented_dataset')"
   ]
  },
  {
   "cell_type": "code",
   "execution_count": 2,
   "metadata": {},
   "outputs": [],
   "source": [
    "\n",
    "def plot_mosaic_from_dataset(dataset, data_type='images', plot_bbox=True, cols=5, rows=2) -> None:\n",
    "    \"\"\"\n",
    "    Plot a mosaic of images or masks from the dataset. The images and masks are randomly selected, one per class.\n",
    "\n",
    "    Args:\n",
    "        dataset (TrimDataset): The dataset object.\n",
    "        data_type (str): The type of data to plot. It can be 'images' or 'masks'.\n",
    "        plot_bbox (bool): Whether to plot the bounding box or not.\n",
    "        cols (int): The number of columns in the plot.\n",
    "        rows (int): The number of rows in the plot.\n",
    "    \"\"\"\n",
    "    plt.figure(figsize=(15, 6))\n",
    "\n",
    "    # Get category IDs and names\n",
    "    category_ids = list(dataset.categories.keys())\n",
    "    category_names = list(dataset.categories.values())\n",
    "\n",
    "    for i, (category_id, category_name) in enumerate(zip(category_ids, category_names)):\n",
    "        if i >= cols * rows:\n",
    "            break\n",
    "\n",
    "        # Get all images for the current category\n",
    "        images_for_category = [img for img in dataset.images if img.category_id == category_id]\n",
    "        if not images_for_category:\n",
    "            continue\n",
    "\n",
    "        # Randomly select an image from the category\n",
    "        selected_image = random.choice(images_for_category)\n",
    "        print(selected_image.file_name)\n",
    "\n",
    "        # Plot the image or mask\n",
    "        plt.subplot(rows, cols, i + 1)\n",
    "        image_to_plot = selected_image.content if data_type == 'images' else selected_image.mask\n",
    "\n",
    "        if data_type == 'images':\n",
    "            plt.imshow(cv2.cvtColor(image_to_plot, cv2.COLOR_BGR2RGB))\n",
    "        else:\n",
    "            plt.imshow(image_to_plot, cmap='gray')\n",
    "\n",
    "        # Plot the bounding box if enabled\n",
    "        if plot_bbox:\n",
    "            bbox = selected_image.bbox\n",
    "            rect = patches.Rectangle(\n",
    "                (bbox[0], bbox[1]), bbox[2], bbox[3], linewidth=2, edgecolor='g', facecolor='none'\n",
    "            )\n",
    "            plt.gca().add_patch(rect)\n",
    "\n",
    "        # Set the title to the category name\n",
    "        plt.title(category_name)\n",
    "        plt.axis('off')\n",
    "\n",
    "    plt.tight_layout()\n",
    "    plt.show()\n"
   ]
  },
  {
   "cell_type": "code",
   "execution_count": 4,
   "metadata": {},
   "outputs": [
    {
     "name": "stdout",
     "output_type": "stream",
     "text": [
      "Erro ao ler imagem no caminho: normalized_dataset\\zipper\\2-01-V1-B-equalized.png\n",
      "Erro ao ler imagem no caminho: normalized_dataset\\clea\\3-01-V1-B-equalized.png\n",
      "Erro ao ler imagem no caminho: normalized_dataset\\crochet_needle\\0-01-V1-B-equalized.png\n",
      "Erro ao ler imagem no caminho: normalized_dataset\\amigurumi\\1-01-V1-B-equalized.png\n",
      "Erro ao ler imagem no caminho: normalized_dataset\\button\\4-01-V1-B-equalized.png\n",
      "Erro ao ler imagem no caminho: normalized_dataset\\paint\\5-01-V1-B-equalized.png\n",
      "Erro ao ler imagem no caminho: normalized_dataset\\ribbon\\6-01-V1-B-equalized.png\n",
      "Erro ao ler imagem no caminho: normalized_dataset\\skein\\7-01-V1-B-equalized.png\n",
      "Erro ao ler imagem no caminho: normalized_dataset\\spool\\8-01-V1-B-equalized.png\n",
      "Erro ao ler imagem no caminho: normalized_dataset\\wool\\9-01-V1-B-equalized.png\n",
      "Erro ao ler imagem no caminho: normalized_dataset\\zipper\\2-01-V1-B-augmented-0-equalized.png\n",
      "Erro ao ler imagem no caminho: normalized_dataset\\clea\\3-01-V1-B-augmented-0-equalized.png\n",
      "Erro ao ler imagem no caminho: normalized_dataset\\crochet_needle\\0-01-V1-B-augmented-0-equalized.png\n",
      "Erro ao ler imagem no caminho: normalized_dataset\\amigurumi\\1-01-V1-B-augmented-0-equalized.png\n",
      "Erro ao ler imagem no caminho: normalized_dataset\\button\\4-01-V1-B-augmented-0-equalized.png\n",
      "Erro ao ler imagem no caminho: normalized_dataset\\paint\\5-01-V1-B-augmented-0-equalized.png\n",
      "Erro ao ler imagem no caminho: normalized_dataset\\ribbon\\6-01-V1-B-augmented-0-equalized.png\n",
      "Erro ao ler imagem no caminho: normalized_dataset\\skein\\7-01-V1-B-augmented-0-equalized.png\n",
      "Erro ao ler imagem no caminho: normalized_dataset\\spool\\8-01-V1-B-augmented-0-equalized.png\n",
      "Erro ao ler imagem no caminho: normalized_dataset\\wool\\9-01-V1-B-augmented-0-equalized.png\n"
     ]
    },
    {
     "ename": "NameError",
     "evalue": "name 'plot_mosaic_from_dataset' is not defined",
     "output_type": "error",
     "traceback": [
      "\u001b[1;31m---------------------------------------------------------------------------\u001b[0m",
      "\u001b[1;31mNameError\u001b[0m                                 Traceback (most recent call last)",
      "Cell \u001b[1;32mIn[4], line 3\u001b[0m\n\u001b[0;32m      1\u001b[0m dataset \u001b[38;5;241m=\u001b[39m TrimDataset(\u001b[38;5;124m'\u001b[39m\u001b[38;5;124mnormalized_dataset\u001b[39m\u001b[38;5;124m'\u001b[39m)\n\u001b[1;32m----> 3\u001b[0m \u001b[43mplot_mosaic_from_dataset\u001b[49m(dataset)\n",
      "\u001b[1;31mNameError\u001b[0m: name 'plot_mosaic_from_dataset' is not defined"
     ]
    }
   ],
   "source": [
    "dataset = TrimDataset('normalized_dataset')\n",
    "\n",
    "plot_mosaic_from_dataset(dataset)"
   ]
  }
 ],
 "metadata": {
  "kernelspec": {
   "display_name": "Python 3",
   "language": "python",
   "name": "python3"
  },
  "language_info": {
   "codemirror_mode": {
    "name": "ipython",
    "version": 3
   },
   "file_extension": ".py",
   "mimetype": "text/x-python",
   "name": "python",
   "nbconvert_exporter": "python",
   "pygments_lexer": "ipython3",
   "version": "3.12.2"
  }
 },
 "nbformat": 4,
 "nbformat_minor": 2
}
